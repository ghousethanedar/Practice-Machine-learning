{
 "cells": [
  {
   "cell_type": "code",
   "execution_count": 1,
   "metadata": {},
   "outputs": [],
   "source": [
    "import numpy as np\n",
    "import pandas as pd\n",
    "import matplotlib.pyplot as plt\n",
    "import seaborn as sns\n",
    "import warnings\n",
    "warnings.filterwarnings('ignore')\n"
   ]
  },
  {
   "cell_type": "code",
   "execution_count": 2,
   "metadata": {},
   "outputs": [],
   "source": [
    "tita=pd.read_csv('titanic.csv')"
   ]
  },
  {
   "cell_type": "code",
   "execution_count": 3,
   "metadata": {},
   "outputs": [
    {
     "data": {
      "text/html": [
       "<div>\n",
       "<style scoped>\n",
       "    .dataframe tbody tr th:only-of-type {\n",
       "        vertical-align: middle;\n",
       "    }\n",
       "\n",
       "    .dataframe tbody tr th {\n",
       "        vertical-align: top;\n",
       "    }\n",
       "\n",
       "    .dataframe thead th {\n",
       "        text-align: right;\n",
       "    }\n",
       "</style>\n",
       "<table border=\"1\" class=\"dataframe\">\n",
       "  <thead>\n",
       "    <tr style=\"text-align: right;\">\n",
       "      <th></th>\n",
       "      <th>PassengerId</th>\n",
       "      <th>Survived</th>\n",
       "      <th>Pclass</th>\n",
       "      <th>Name</th>\n",
       "      <th>Sex</th>\n",
       "      <th>Age</th>\n",
       "      <th>SibSp</th>\n",
       "      <th>Parch</th>\n",
       "      <th>Ticket</th>\n",
       "      <th>Fare</th>\n",
       "      <th>Cabin</th>\n",
       "      <th>Embarked</th>\n",
       "    </tr>\n",
       "  </thead>\n",
       "  <tbody>\n",
       "    <tr>\n",
       "      <th>0</th>\n",
       "      <td>1</td>\n",
       "      <td>0</td>\n",
       "      <td>3</td>\n",
       "      <td>Braund, Mr. Owen Harris</td>\n",
       "      <td>male</td>\n",
       "      <td>22.0</td>\n",
       "      <td>1</td>\n",
       "      <td>0</td>\n",
       "      <td>A/5 21171</td>\n",
       "      <td>7.2500</td>\n",
       "      <td>NaN</td>\n",
       "      <td>S</td>\n",
       "    </tr>\n",
       "    <tr>\n",
       "      <th>1</th>\n",
       "      <td>2</td>\n",
       "      <td>1</td>\n",
       "      <td>1</td>\n",
       "      <td>Cumings, Mrs. John Bradley (Florence Briggs Th...</td>\n",
       "      <td>female</td>\n",
       "      <td>38.0</td>\n",
       "      <td>1</td>\n",
       "      <td>0</td>\n",
       "      <td>PC 17599</td>\n",
       "      <td>71.2833</td>\n",
       "      <td>C85</td>\n",
       "      <td>C</td>\n",
       "    </tr>\n",
       "    <tr>\n",
       "      <th>2</th>\n",
       "      <td>3</td>\n",
       "      <td>1</td>\n",
       "      <td>3</td>\n",
       "      <td>Heikkinen, Miss. Laina</td>\n",
       "      <td>female</td>\n",
       "      <td>26.0</td>\n",
       "      <td>0</td>\n",
       "      <td>0</td>\n",
       "      <td>STON/O2. 3101282</td>\n",
       "      <td>7.9250</td>\n",
       "      <td>NaN</td>\n",
       "      <td>S</td>\n",
       "    </tr>\n",
       "    <tr>\n",
       "      <th>3</th>\n",
       "      <td>4</td>\n",
       "      <td>1</td>\n",
       "      <td>1</td>\n",
       "      <td>Futrelle, Mrs. Jacques Heath (Lily May Peel)</td>\n",
       "      <td>female</td>\n",
       "      <td>35.0</td>\n",
       "      <td>1</td>\n",
       "      <td>0</td>\n",
       "      <td>113803</td>\n",
       "      <td>53.1000</td>\n",
       "      <td>C123</td>\n",
       "      <td>S</td>\n",
       "    </tr>\n",
       "    <tr>\n",
       "      <th>4</th>\n",
       "      <td>5</td>\n",
       "      <td>0</td>\n",
       "      <td>3</td>\n",
       "      <td>Allen, Mr. William Henry</td>\n",
       "      <td>male</td>\n",
       "      <td>35.0</td>\n",
       "      <td>0</td>\n",
       "      <td>0</td>\n",
       "      <td>373450</td>\n",
       "      <td>8.0500</td>\n",
       "      <td>NaN</td>\n",
       "      <td>S</td>\n",
       "    </tr>\n",
       "  </tbody>\n",
       "</table>\n",
       "</div>"
      ],
      "text/plain": [
       "   PassengerId  Survived  Pclass  \\\n",
       "0            1         0       3   \n",
       "1            2         1       1   \n",
       "2            3         1       3   \n",
       "3            4         1       1   \n",
       "4            5         0       3   \n",
       "\n",
       "                                                Name     Sex   Age  SibSp  \\\n",
       "0                            Braund, Mr. Owen Harris    male  22.0      1   \n",
       "1  Cumings, Mrs. John Bradley (Florence Briggs Th...  female  38.0      1   \n",
       "2                             Heikkinen, Miss. Laina  female  26.0      0   \n",
       "3       Futrelle, Mrs. Jacques Heath (Lily May Peel)  female  35.0      1   \n",
       "4                           Allen, Mr. William Henry    male  35.0      0   \n",
       "\n",
       "   Parch            Ticket     Fare Cabin Embarked  \n",
       "0      0         A/5 21171   7.2500   NaN        S  \n",
       "1      0          PC 17599  71.2833   C85        C  \n",
       "2      0  STON/O2. 3101282   7.9250   NaN        S  \n",
       "3      0            113803  53.1000  C123        S  \n",
       "4      0            373450   8.0500   NaN        S  "
      ]
     },
     "execution_count": 3,
     "metadata": {},
     "output_type": "execute_result"
    }
   ],
   "source": [
    "tita.head()"
   ]
  },
  {
   "cell_type": "code",
   "execution_count": 4,
   "metadata": {},
   "outputs": [
    {
     "data": {
      "text/plain": [
       "PassengerId      0\n",
       "Survived         0\n",
       "Pclass           0\n",
       "Name             0\n",
       "Sex              0\n",
       "Age            177\n",
       "SibSp            0\n",
       "Parch            0\n",
       "Ticket           0\n",
       "Fare             0\n",
       "Cabin          687\n",
       "Embarked         2\n",
       "dtype: int64"
      ]
     },
     "execution_count": 4,
     "metadata": {},
     "output_type": "execute_result"
    }
   ],
   "source": [
    "tita.isnull().sum()"
   ]
  },
  {
   "cell_type": "code",
   "execution_count": 5,
   "metadata": {},
   "outputs": [],
   "source": [
    "tita[['Pclass','Survived','SibSp','Parch']]=tita[['Pclass','Survived','SibSp','Parch']].astype('str')"
   ]
  },
  {
   "cell_type": "code",
   "execution_count": 6,
   "metadata": {},
   "outputs": [
    {
     "data": {
      "text/plain": [
       "(891, 12)"
      ]
     },
     "execution_count": 6,
     "metadata": {},
     "output_type": "execute_result"
    }
   ],
   "source": [
    "tita.shape"
   ]
  },
  {
   "cell_type": "code",
   "execution_count": 7,
   "metadata": {},
   "outputs": [
    {
     "name": "stdout",
     "output_type": "stream",
     "text": [
      "<class 'pandas.core.frame.DataFrame'>\n",
      "RangeIndex: 891 entries, 0 to 890\n",
      "Data columns (total 12 columns):\n",
      "PassengerId    891 non-null int64\n",
      "Survived       891 non-null object\n",
      "Pclass         891 non-null object\n",
      "Name           891 non-null object\n",
      "Sex            891 non-null object\n",
      "Age            714 non-null float64\n",
      "SibSp          891 non-null object\n",
      "Parch          891 non-null object\n",
      "Ticket         891 non-null object\n",
      "Fare           891 non-null float64\n",
      "Cabin          204 non-null object\n",
      "Embarked       889 non-null object\n",
      "dtypes: float64(2), int64(1), object(9)\n",
      "memory usage: 83.6+ KB\n"
     ]
    }
   ],
   "source": [
    "tita.info()"
   ]
  },
  {
   "cell_type": "code",
   "execution_count": 8,
   "metadata": {},
   "outputs": [
    {
     "data": {
      "text/plain": [
       "(714, 7)"
      ]
     },
     "execution_count": 8,
     "metadata": {},
     "output_type": "execute_result"
    }
   ],
   "source": [
    "tita=tita.drop(['Cabin','Name','Embarked','PassengerId','Ticket'],axis=1)\n",
    "tita=tita.dropna()\n",
    "tita.shape"
   ]
  },
  {
   "cell_type": "code",
   "execution_count": 9,
   "metadata": {},
   "outputs": [],
   "source": [
    "tita.Sex=tita.Sex.replace({'male':1,'female':0})"
   ]
  },
  {
   "cell_type": "code",
   "execution_count": 10,
   "metadata": {},
   "outputs": [],
   "source": [
    "from sklearn.utils import resample\n",
    "\n"
   ]
  },
  {
   "cell_type": "code",
   "execution_count": 11,
   "metadata": {},
   "outputs": [],
   "source": [
    "\n",
    "df_Parch_0 = resample(tita[tita['Parch']=='0'],n_samples=500,replace=True,random_state=1)\n",
    "df_Parch_1 = resample(tita[tita['Parch']=='1'],n_samples=500,replace=True,random_state=1)\n",
    "\n",
    "df_Parch_2 = resample(tita[tita['Parch']=='2'],n_samples=500,replace=True,random_state=1)\n",
    "\n",
    "df_Parch_3 = resample(tita[tita['Parch']=='3'],n_samples=500,replace=True,random_state=1)\n",
    "\n",
    "df_Parch_4 = resample(tita[tita['Parch']=='4'],n_samples=500,replace=True,random_state=1)\n",
    "\n",
    "df_Parch_5 = resample(tita[tita['Parch']=='5'],n_samples=500,replace=True,random_state=1)\n",
    "df_Parch_6 = resample(tita[tita['Parch']=='6'],n_samples=500,replace=True,random_state=1)\n",
    "#df_survived_1=resample(tita[tita['Survived']=='1'],n_samples=500,replace=True,random_state=1)\n",
    "#df_survived_1=resample(tita[tita['Survived']=='0'],n_samples=500,replace=True,random_state=1)\n",
    "\n",
    "\n"
   ]
  },
  {
   "cell_type": "code",
   "execution_count": 12,
   "metadata": {},
   "outputs": [],
   "source": [
    "tita=pd.concat([df_Parch_0,df_Parch_1,df_Parch_2,df_Parch_3,df_Parch_4,df_Parch_5,df_Parch_6])"
   ]
  },
  {
   "cell_type": "code",
   "execution_count": 13,
   "metadata": {},
   "outputs": [],
   "source": [
    "from sklearn.model_selection import train_test_split\n",
    "\n",
    "first,second=train_test_split(tita,test_size=0.3,random_state=22)"
   ]
  },
  {
   "cell_type": "code",
   "execution_count": 14,
   "metadata": {},
   "outputs": [],
   "source": [
    "#from sklearn.decomposition import PCA\n",
    "from sklearn.preprocessing import StandardScaler\n"
   ]
  },
  {
   "cell_type": "code",
   "execution_count": 15,
   "metadata": {},
   "outputs": [],
   "source": [
    "ss=StandardScaler()\n",
    "ss.fit(first[['Age','Fare']])\n",
    "first[['Age','Fare']]=ss.transform(first[['Age','Fare']])\n",
    "second[['Age','Fare']]=ss.transform(second[['Age','Fare']])\n"
   ]
  },
  {
   "cell_type": "code",
   "execution_count": 16,
   "metadata": {},
   "outputs": [],
   "source": [
    "first=pd.get_dummies(first)\n",
    "second=pd.get_dummies(second)\n"
   ]
  },
  {
   "cell_type": "code",
   "execution_count": 17,
   "metadata": {},
   "outputs": [
    {
     "name": "stdout",
     "output_type": "stream",
     "text": [
      "shape of first and second (2450, 17) (1050, 17)\n"
     ]
    }
   ],
   "source": [
    "first=first.drop(['Survived_0','SibSp_0','SibSp_5','Parch_0'],axis=1)\n",
    "second=second.drop(['Survived_0','SibSp_0','SibSp_5','Parch_0'],axis=1)\n",
    "print('shape of first and second',first.shape,second.shape)"
   ]
  },
  {
   "cell_type": "code",
   "execution_count": 18,
   "metadata": {},
   "outputs": [],
   "source": [
    "x=first.drop('Survived_1',axis=1)\n",
    "y=first['Survived_1']"
   ]
  },
  {
   "cell_type": "code",
   "execution_count": 19,
   "metadata": {},
   "outputs": [],
   "source": [
    "from sklearn.model_selection import train_test_split"
   ]
  },
  {
   "cell_type": "code",
   "execution_count": 20,
   "metadata": {},
   "outputs": [],
   "source": [
    "xtrain,xtest,ytrain,ytest=train_test_split(x,y,test_size=0.3,random_state=22,stratify=y)\n"
   ]
  },
  {
   "cell_type": "code",
   "execution_count": 21,
   "metadata": {},
   "outputs": [
    {
     "name": "stdout",
     "output_type": "stream",
     "text": [
      "+------------------------+--------------------+--------------------+--------------------+--------------------+\n",
      "|       Model name       |   Accuracy_score   |  Precision_score   |    Recall_score    |      F1_score      |\n",
      "+------------------------+--------------------+--------------------+--------------------+--------------------+\n",
      "|   LogisticRegression   | 0.8802721088435375 | 0.8788453082067302 | 0.8802721088435375 | 0.8788133547497878 |\n",
      "|          KNN           | 0.9523809523809523 | 0.9525721500721501 | 0.9523809523809523 | 0.9524587657176155 |\n",
      "| DecisionTreeClassifier | 0.9755102040816327 | 0.9758137762783524 | 0.9755102040816327 | 0.9755890538033395 |\n",
      "| RandomForestClassifier | 0.9727891156462585 | 0.9727447676943117 | 0.9727891156462585 | 0.972758730882727  |\n",
      "+------------------------+--------------------+--------------------+--------------------+--------------------+\n"
     ]
    }
   ],
   "source": [
    "## code to find the best model for the dataset\n",
    "\n",
    "## Before using this template you should find the hyperparameters for the KNN \n",
    "## and Decision and random Forest the add those parameters in the model below \n",
    "\n",
    "## After selecting the best model we can use KFold CV to check for the bias error and variance error\n",
    "\n",
    "from sklearn.linear_model import LogisticRegression\n",
    "from sklearn.neighbors import KNeighborsClassifier\n",
    "from sklearn.tree import DecisionTreeClassifier\n",
    "from sklearn.ensemble import RandomForestClassifier\n",
    "from prettytable import PrettyTable\n",
    "from sklearn import metrics\n",
    "\n",
    "report= PrettyTable()\n",
    "report.field_names=['Model name','Accuracy_score','Precision_score','Recall_score','F1_score']\n",
    "\n",
    "\n",
    "regressor=['LogisticRegression','KNN','DecisionTreeClassifier','RandomForestClassifier']\n",
    "accuracy=[]\n",
    "precision=[]\n",
    "recall=[]\n",
    "f1_score=[]\n",
    "\n",
    "for regressor in regressor:\n",
    "    if regressor=='LogisticRegression':\n",
    "        model1=LogisticRegression()\n",
    "        model1.fit(xtrain,ytrain)\n",
    "        log_pred=pd.DataFrame(model1.predict(xtest))\n",
    "        #Evaluation metrics\n",
    "        report.add_row([regressor,\n",
    "                    metrics.accuracy_score(ytest,log_pred),\n",
    "                    metrics.precision_score(ytest,log_pred,average='weighted'),\n",
    "                    metrics.recall_score(ytest,log_pred,average='weighted'),\n",
    "                    metrics.f1_score(ytest,log_pred,average='weighted')])\n",
    "        \n",
    "    elif regressor=='KNN': \n",
    "        model2=KNeighborsClassifier(n_neighbors=3)\n",
    "        model2.fit(xtrain,ytrain)\n",
    "        knn_pred=model2.predict(xtest)\n",
    "        #Evaluation metrics\n",
    "        report.add_row([regressor,\n",
    "                    metrics.accuracy_score(ytest,knn_pred),\n",
    "                    metrics.precision_score(ytest,knn_pred,average='weighted'),\n",
    "                    metrics.recall_score(ytest,knn_pred,average='weighted'),\n",
    "                    metrics.f1_score(ytest,knn_pred,average='weighted')])\n",
    "    elif regressor=='DecisionTreeClassifier':\n",
    "        model3=DecisionTreeClassifier(criterion='entropy')\n",
    "        model3.fit(xtrain,ytrain)\n",
    "        dec_pred=model3.predict(xtest)\n",
    "        #Evaluation metrics\n",
    "        report.add_row([regressor,\n",
    "                    metrics.accuracy_score(ytest,dec_pred),\n",
    "                    metrics.precision_score(ytest,dec_pred,average='weighted'),\n",
    "                    metrics.recall_score(ytest,dec_pred,average='weighted'),\n",
    "                    metrics.f1_score(ytest,dec_pred,average='weighted')])\n",
    "        \n",
    "    elif regressor=='RandomForestClassifier':\n",
    "        model4=RandomForestClassifier(criterion='gini')\n",
    "        model4.fit(xtrain,ytrain)\n",
    "        random_pred=model4.predict(xtest)\n",
    "        #Evaluation metrics\n",
    "        report.add_row([regressor,\n",
    "                    metrics.accuracy_score(ytest,random_pred),\n",
    "                    metrics.precision_score(ytest,random_pred,average='weighted'),\n",
    "                    metrics.recall_score(ytest,random_pred,average='weighted'),\n",
    "                    metrics.f1_score(ytest,random_pred,average='weighted')])\n",
    "print(report)\n"
   ]
  },
  {
   "cell_type": "code",
   "execution_count": 22,
   "metadata": {},
   "outputs": [
    {
     "name": "stdout",
     "output_type": "stream",
     "text": [
      "+------------------------+--------------------------------------------------------------------------------------+--------------------+\n",
      "|       Model name       |                                   Best Parameters                                    |     Best Score     |\n",
      "+------------------------+--------------------------------------------------------------------------------------+--------------------+\n",
      "|          KNN           |                             {'p': 11, 'n_neighbors': 3}                              | 0.9463556851311954 |\n",
      "| DecisionTreeClassifier | {'min_samples_leaf': 2, 'max_leaf_nodes': 9, 'max_depth': 6, 'criterion': 'entropy'} | 0.9125364431486881 |\n",
      "| RandomForestClassifier |             {'n_estimators': 15, 'max_features': 7, 'criterion': 'gini'}             | 0.9685131195335277 |\n",
      "+------------------------+--------------------------------------------------------------------------------------+--------------------+\n"
     ]
    }
   ],
   "source": [
    "## Code to find the best hyper parameters for the KNN and DecisionTree and Random forest\n",
    "\n",
    "from sklearn.model_selection import RandomizedSearchCV\n",
    "## code to find the best model for the dataset\n",
    "\n",
    "\n",
    "best_par= PrettyTable()\n",
    "best_par.field_names=['Model name','Best Parameters','Best Score']\n",
    "\n",
    "\n",
    "regressor=['KNN','DecisionTreeClassifier','RandomForestClassifier']\n",
    "\n",
    "\n",
    "for regressor in regressor:\n",
    "    if regressor=='KNN': \n",
    "        grid1={'n_neighbors': np.arange(1,50),'p': np.arange(1,50)}\n",
    "        ran_search1=RandomizedSearchCV(model2,grid1,cv=3)\n",
    "        ran_search1.fit(xtrain,ytrain)\n",
    "        best_par.add_row([regressor,\n",
    "                          ran_search1.best_params_,\n",
    "                          ran_search1.best_score_])\n",
    "    elif regressor=='DecisionTreeClassifier':\n",
    "        \n",
    "        \n",
    "        grid2={'criterion':['gini','entropy'],'max_depth': np.arange(2,10),'max_leaf_nodes':np.arange(2,10),'min_samples_leaf':np.arange(2,10)}\n",
    "        ran_search2=RandomizedSearchCV(model3,grid2,cv=3)\n",
    "        ran_search2.fit(xtrain,ytrain)\n",
    "        best_par.add_row([regressor,\n",
    "                          ran_search2.best_params_,\n",
    "                          ran_search2.best_score_])\n",
    "        \n",
    "    elif regressor=='RandomForestClassifier':\n",
    "        \n",
    "        \n",
    "        grid3={'criterion':['gini','entropy'],'n_estimators':np.arange(1,100),'max_features':np.arange(1,10)}\n",
    "        ran_search3=RandomizedSearchCV(model4,grid3,cv=3)\n",
    "        ran_search3.fit(xtrain,ytrain)\n",
    "        best_par.add_row([regressor,\n",
    "                          ran_search3.best_params_,\n",
    "                          ran_search3.best_score_])\n",
    "        \n",
    "print(best_par)\n",
    "\n"
   ]
  },
  {
   "cell_type": "markdown",
   "metadata": {},
   "source": [
    "## From the above details we can tell Random forest classifier is performing well in this dataset with the parameters as 'n_estimators': 15, 'max_features': 7, 'criterion': 'gini'"
   ]
  },
  {
   "cell_type": "markdown",
   "metadata": {},
   "source": [
    "## Building the random forest classifier using the KFold cross validation"
   ]
  },
  {
   "cell_type": "code",
   "execution_count": 25,
   "metadata": {},
   "outputs": [
    {
     "name": "stdout",
     "output_type": "stream",
     "text": [
      "+------------------------+--------------------+--------------------+--------------------+--------------------+\n",
      "|         Model          |      Accuracy      |     Precision      |       Recall       |      F1_score      |\n",
      "+------------------------+--------------------+--------------------+--------------------+--------------------+\n",
      "| RandomForestClassifier | 0.9708146334829321 | 0.9716618725532691 | 0.9708146334829321 | 0.9708109023929421 |\n",
      "+------------------------+--------------------+--------------------+--------------------+--------------------+\n"
     ]
    },
    {
     "data": {
      "text/plain": [
       "array([[107,   8],\n",
       "       [  4,  52]])"
      ]
     },
     "execution_count": 25,
     "metadata": {},
     "output_type": "execute_result"
    }
   ],
   "source": [
    "from sklearn.model_selection import KFold\n",
    "\n",
    "kf=KFold(n_splits=10)\n",
    "random_final=PrettyTable()\n",
    "random_final.field_names=['Model','Accuracy','Precision','Recall','F1_score']\n",
    "accuracy=[]\n",
    "precision=[]\n",
    "recall=[]\n",
    "f1_score=[]\n",
    "for train,test in kf.split(xtrain,ytrain):\n",
    "    \n",
    "    xtrain1,xtest1=xtrain.iloc[train,:],xtrain.iloc[test,:]\n",
    "    ytrain1=ytrain.iloc[train]\n",
    "    ytest1=ytrain.iloc[test]\n",
    "    \n",
    "    model4=RandomForestClassifier(n_estimators=15,max_features=7,criterion='gini')\n",
    "    model4.fit(xtrain1,ytrain1)\n",
    "    random_pred=model4.predict(xtest1)\n",
    "    #Evaluation metrics\n",
    "    accuracy.append(metrics.accuracy_score(ytest1,random_pred))\n",
    "    precision.append(metrics.precision_score(ytest1,random_pred,average='weighted'))\n",
    "    recall.append(metrics.recall_score(ytest1,random_pred,average='weighted'))\n",
    "    f1_score.append(metrics.f1_score(ytest1,random_pred,average='weighted'))\n",
    "random_final.add_row([regressor,np.mean(accuracy),np.mean(precision),np.mean(recall),np.mean(f1_score)])\n",
    "                        \n",
    "\n",
    "\n",
    "print(random_final)\n",
    "\n",
    "metrics.confusion_matrix(ytest1,random_pred)"
   ]
  },
  {
   "cell_type": "code",
   "execution_count": 26,
   "metadata": {},
   "outputs": [],
   "source": [
    "x_sec=first.drop('Survived_1',axis=1)\n",
    "y_sec=first['Survived_1']"
   ]
  },
  {
   "cell_type": "code",
   "execution_count": 27,
   "metadata": {},
   "outputs": [
    {
     "name": "stdout",
     "output_type": "stream",
     "text": [
      "+------------------------+--------------------+--------------------+--------------------+--------------------+\n",
      "|         Model          |      Accuracy      |     Precision      |       Recall       |      F1_score      |\n",
      "+------------------------+--------------------+--------------------+--------------------+--------------------+\n",
      "| RandomForestClassifier | 0.9832653061224491 | 0.9833475350088883 | 0.9832653061224491 | 0.9832517564307659 |\n",
      "+------------------------+--------------------+--------------------+--------------------+--------------------+\n"
     ]
    },
    {
     "data": {
      "text/plain": [
       "array([[165,   2],\n",
       "       [  1,  77]])"
      ]
     },
     "execution_count": 27,
     "metadata": {},
     "output_type": "execute_result"
    }
   ],
   "source": [
    "from sklearn.model_selection import KFold\n",
    "\n",
    "kf=KFold(n_splits=10)\n",
    "random_final=PrettyTable()\n",
    "random_final.field_names=['Model','Accuracy','Precision','Recall','F1_score']\n",
    "accuracy=[]\n",
    "precision=[]\n",
    "recall=[]\n",
    "f1_score=[]\n",
    "for train,test in kf.split(x_sec,y_sec):\n",
    "    \n",
    "    xtrain1,xtest1=x_sec.iloc[train,:],x_sec.iloc[test,:]\n",
    "    ytrain1=y_sec.iloc[train]\n",
    "    ytest1=y_sec.iloc[test]\n",
    "    \n",
    "    model4=RandomForestClassifier(n_estimators=63,max_features=7,criterion='entropy')\n",
    "    model4.fit(xtrain1,ytrain1)\n",
    "    random_pred=model4.predict(xtest1)\n",
    "    #Evaluation metrics\n",
    "    accuracy.append(metrics.accuracy_score(ytest1,random_pred))\n",
    "    precision.append(metrics.precision_score(ytest1,random_pred,average='weighted'))\n",
    "    recall.append(metrics.recall_score(ytest1,random_pred,average='weighted'))\n",
    "    f1_score.append(metrics.f1_score(ytest1,random_pred,average='weighted'))\n",
    "random_final.add_row([regressor,np.mean(accuracy),np.mean(precision),np.mean(recall),np.mean(f1_score)])\n",
    "                        \n",
    "\n",
    "\n",
    "print(random_final)\n",
    "\n",
    "metrics.confusion_matrix(ytest1,random_pred)"
   ]
  },
  {
   "cell_type": "code",
   "execution_count": null,
   "metadata": {},
   "outputs": [],
   "source": []
  }
 ],
 "metadata": {
  "kernelspec": {
   "display_name": "Python 3",
   "language": "python",
   "name": "python3"
  },
  "language_info": {
   "codemirror_mode": {
    "name": "ipython",
    "version": 3
   },
   "file_extension": ".py",
   "mimetype": "text/x-python",
   "name": "python",
   "nbconvert_exporter": "python",
   "pygments_lexer": "ipython3",
   "version": "3.7.1"
  }
 },
 "nbformat": 4,
 "nbformat_minor": 2
}
